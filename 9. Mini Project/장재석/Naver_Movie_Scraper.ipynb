{
 "cells": [
  {
   "cell_type": "markdown",
   "metadata": {},
   "source": [
    "# Naver movie 개봉 전 review scraping"
   ]
  },
  {
   "cell_type": "code",
   "execution_count": 21,
   "metadata": {
    "collapsed": true
   },
   "outputs": [],
   "source": [
    "import re\n",
    "import math\n",
    "import pandas as pd\n",
    "from urllib.request import urlopen\n",
    "from bs4 import BeautifulSoup\n",
    "from selenium import webdriver"
   ]
  },
  {
   "cell_type": "code",
   "execution_count": 69,
   "metadata": {},
   "outputs": [],
   "source": [
    "class NaverMovieScraping:\n",
    "    \n",
    "    def __init_(self, url):\n",
    "        self.url = url\n",
    "        \n",
    "    def URLcode(self, url):\n",
    "        self.url = url\n",
    "        start = re.search('code=[0-9]+',self.url).group()\n",
    "        code = re.search('[0-9]+',start).group()\n",
    "        return code \n",
    "    \n",
    "    def ReviewSCORE(self, code):\n",
    "        \n",
    "        self.code = code\n",
    "        url_base = \"http://movie.naver.com/movie/bi/mi/point.nhn?code={}\".format(str(code))\n",
    "        html = urlopen(url_base).read().decode('utf-8')\n",
    "        soup = BeautifulSoup(html, 'lxml')\n",
    "        graph = soup.findAll('span',{'class':'exp_cnt'})\n",
    "        star = soup.findAll('div', {'class':'sc_area b_star'})\n",
    "\n",
    "        exp_idx = [elem.text for elem in graph]\n",
    "        star_idx = [s.text for s in star]\n",
    "    \n",
    "        smile = ''.join(re.findall('[0-9]',exp_idx[0]))\n",
    "        not_smile= ''.join(re.findall('[0-9]',exp_idx[1]))    \n",
    "    \n",
    "        return pd.DataFrame({'보고싶어요' : [smile], \n",
    "                         '글쎄요' : [not_smile], \n",
    "                         '평점' : [star_idx[0][17:21]], \n",
    "                         '참여인원' : [star_idx[0][26:30]]})\n",
    "    \n",
    "    def review_page(self, code):\n",
    "        \n",
    "        self.code = code\n",
    "        #url의 경우 따로 개봉전 주소를 넣는다.\n",
    "        url_base = \"http://movie.naver.com/movie/bi/mi/pointWriteFormList.nhn?code={}&type=before\".format(str(code))\n",
    "        html = urlopen(url_base).read().decode('utf-8')\n",
    "        soup = BeautifulSoup(html, 'lxml')\n",
    "        \n",
    "        score_total = soup.findAll('div', {'class' : 'score_total'})\n",
    "        review_num = [elem.findChildren('em')[1].get_text() for elem in score_total]\n",
    "    \n",
    "        # review_num이 1000개를 넘어가면 , 문자를 제거 \n",
    "        return math.ceil(int(review_num[0].replace(\",\",\"\")) / 10)\n",
    "    \n",
    "    def getReview(self, code, page_num):\n",
    "    \n",
    "        page = int(1)\n",
    "        #count = int(input('page number : '))\n",
    "        self.page_num = int(page_num) #review의 전체 페이지\n",
    "    \n",
    "        reple_list = []\n",
    "        score_list = []\n",
    "        good_list = []\n",
    "        bad_list = []\n",
    "        \n",
    "        self.code = code\n",
    "        \n",
    "        while page_num:\n",
    "        \n",
    "            #url의 경우 따로 개봉전 주소를 넣는다.\n",
    "            url_base = \"http://movie.naver.com/movie/bi/mi/pointWriteFormList.nhn?code={}&type=before&page={}\".format(str(code),str(page))\n",
    "            html = urlopen(url_base).read().decode('utf-8')\n",
    "            soup = BeautifulSoup(html, 'lxml')\n",
    "        \n",
    "            score_result = soup.find('div', {'class' : 'score_result'})\n",
    "            li_list = score_result.find_all('li')\n",
    "        \n",
    "            for li in li_list:\n",
    "            \n",
    "                page = int(page)\n",
    "                reple = li.find('div', {'class' : 'score_reple'}).find('p').get_text()\n",
    "            \n",
    "            #별점이 없는 곳은 0점으로 넣는다.\n",
    "                try:\n",
    "                    score = li.find('div', {'class' : 'star_score'}).find('em').get_text()\n",
    "                except Exception as ex:\n",
    "                    score = 0\n",
    "                \n",
    "                good = li.find('div', {'class' : 'btn_area'}).get_text().split('\\n')[1]\n",
    "                bad = li.find('div', {'class' : 'btn_area'}).get_text().split('\\n')[2]\n",
    "            \n",
    "                reple_list.append(reple)\n",
    "                score_list.append(score)\n",
    "                good_list.append(''.join([s for s in str(good) if s.isdigit()]))\n",
    "                bad_list.append(''.join([s for s in str(bad) if s.isdigit()]))\n",
    "            \n",
    "            page_num -= 1\n",
    "        \n",
    "            if not page_num:\n",
    "                break\n",
    "            \n",
    "            page += 1\n",
    "    \n",
    "        return pd.DataFrame({'score' : score_list, 'reple' : reple_list, 'good' : good_list, 'bad' : bad_list})\n"
   ]
  },
  {
   "cell_type": "code",
   "execution_count": 70,
   "metadata": {
    "collapsed": true
   },
   "outputs": [],
   "source": [
    "crawler = NaverMovieScraping()"
   ]
  },
  {
   "cell_type": "code",
   "execution_count": 71,
   "metadata": {},
   "outputs": [
    {
     "data": {
      "text/plain": [
       "'85579'"
      ]
     },
     "execution_count": 71,
     "metadata": {},
     "output_type": "execute_result"
    }
   ],
   "source": [
    "crawler.URLcode('http://movie.naver.com/movie/bi/mi/basic.nhn?code=85579')"
   ]
  },
  {
   "cell_type": "code",
   "execution_count": 72,
   "metadata": {},
   "outputs": [
    {
     "data": {
      "text/html": [
       "<div>\n",
       "<style>\n",
       "    .dataframe thead tr:only-child th {\n",
       "        text-align: right;\n",
       "    }\n",
       "\n",
       "    .dataframe thead th {\n",
       "        text-align: left;\n",
       "    }\n",
       "\n",
       "    .dataframe tbody tr th {\n",
       "        vertical-align: top;\n",
       "    }\n",
       "</style>\n",
       "<table border=\"1\" class=\"dataframe\">\n",
       "  <thead>\n",
       "    <tr style=\"text-align: right;\">\n",
       "      <th></th>\n",
       "      <th>글쎄요</th>\n",
       "      <th>보고싶어요</th>\n",
       "      <th>참여인원</th>\n",
       "      <th>평점</th>\n",
       "    </tr>\n",
       "  </thead>\n",
       "  <tbody>\n",
       "    <tr>\n",
       "      <th>0</th>\n",
       "      <td>7734</td>\n",
       "      <td>57194</td>\n",
       "      <td>4,19</td>\n",
       "      <td>8.03</td>\n",
       "    </tr>\n",
       "  </tbody>\n",
       "</table>\n",
       "</div>"
      ],
      "text/plain": [
       "    글쎄요  보고싶어요  참여인원    평점\n",
       "0  7734  57194  4,19  8.03"
      ]
     },
     "execution_count": 72,
     "metadata": {},
     "output_type": "execute_result"
    }
   ],
   "source": [
    "crawler.ReviewSCORE(85579)"
   ]
  },
  {
   "cell_type": "code",
   "execution_count": 73,
   "metadata": {},
   "outputs": [
    {
     "data": {
      "text/plain": [
       "420"
      ]
     },
     "execution_count": 73,
     "metadata": {},
     "output_type": "execute_result"
    }
   ],
   "source": [
    "crawler.review_page(85579)"
   ]
  },
  {
   "cell_type": "code",
   "execution_count": null,
   "metadata": {},
   "outputs": [],
   "source": [
    "crawler.getReview(85579, 420)"
   ]
  },
  {
   "cell_type": "code",
   "execution_count": null,
   "metadata": {
    "collapsed": true
   },
   "outputs": [],
   "source": []
  }
 ],
 "metadata": {
  "kernelspec": {
   "display_name": "Python [default]",
   "language": "python",
   "name": "python3"
  },
  "language_info": {
   "codemirror_mode": {
    "name": "ipython",
    "version": 3
   },
   "file_extension": ".py",
   "mimetype": "text/x-python",
   "name": "python",
   "nbconvert_exporter": "python",
   "pygments_lexer": "ipython3",
   "version": "3.6.3"
  }
 },
 "nbformat": 4,
 "nbformat_minor": 2
}
