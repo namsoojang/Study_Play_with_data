{
 "cells": [
  {
   "cell_type": "code",
   "execution_count": 1,
   "metadata": {
    "collapsed": true
   },
   "outputs": [],
   "source": [
    "import requests\n",
    "from bs4 import BeautifulSoup\n",
    "import time\n",
    "import random"
   ]
  },
  {
   "cell_type": "code",
   "execution_count": 11,
   "metadata": {
    "collapsed": true,
    "scrolled": true
   },
   "outputs": [],
   "source": [
    "# 블로그 검색결과 url 만들기\n",
    "def searching_blog(word, page):\n",
    "    url_base = 'https://search.naver.com/search.naver?date_from=&date_option=0&date_to=&dup_remove=1&nso=&post_blogurl=&post_blogurl_without=&query={}&sm=tab_pge&srchby=all&st=sim&where=post&start={}'\n",
    "    url_blogsearch = url_base.format(word,str(10*(page-1)+1))\n",
    "#     print(url_blogsearch)\n",
    "    return url_blogsearch\n"
   ]
  },
  {
   "cell_type": "code",
   "execution_count": 3,
   "metadata": {
    "collapsed": true
   },
   "outputs": [],
   "source": [
    "def get_search_result(url):\n",
    "    # 블로그 검색결과 접근 --> soup 보여줌\n",
    "    user_agent=\"Mozilla/5.0 (Macintosh; Intel Mac OS X 10_9_4) \" +\\\n",
    "    \"AppleWebKit/537.36 (KHTML, like Gecko) \" + \\\n",
    "    \"Chrome/37.0.2062.94 Safari/537.36\"\n",
    "    headers = {\"User-Agent\": user_agent}\n",
    "    html  = requests.get(url, headers =headers).text\n",
    "    soup = BeautifulSoup(html, 'html.parser')\n",
    "    return soup"
   ]
  },
  {
   "cell_type": "code",
   "execution_count": 4,
   "metadata": {
    "collapsed": true
   },
   "outputs": [],
   "source": [
    "def get_total_blog(soup):\n",
    "    # 블로그 총 검색결과 찾기\n",
    "    total = soup.select('span.title_num')[0].text.split('/')[1].strip()[:-1].replace(',','')\n",
    "#     print('총 {}개의 검색결과 확인하였습니다.'.format(total))\n",
    "    return total"
   ]
  },
  {
   "cell_type": "code",
   "execution_count": 5,
   "metadata": {
    "collapsed": true
   },
   "outputs": [],
   "source": [
    "def get_searched_blog_links(soup):\n",
    "    # 페이지 내 블로그 url 을 가져온다\n",
    "    searched_blogs = soup.select('span.inline > a.url')\n",
    "    urls = []\n",
    "    for blogs in searched_blogs:\n",
    "        urls.append(blogs.text)\n",
    "    \n",
    "    return urls"
   ]
  },
  {
   "cell_type": "code",
   "execution_count": 6,
   "metadata": {
    "collapsed": true
   },
   "outputs": [],
   "source": [
    "def is_mine(check_url, naver_blog):\n",
    "    return naver_blog in check_url"
   ]
  },
  {
   "cell_type": "code",
   "execution_count": 8,
   "metadata": {
    "collapsed": true
   },
   "outputs": [],
   "source": [
    "def check_blog_rank(tag,naver_blog,page):\n",
    "    rank = 0\n",
    "    print('<{}> 으로 검색중입니다.'.format(tag))\n",
    "    for p in range(1,page+1):  #1페이지부터 10페이지까지 --> 총 100개 url 조사\n",
    "        print('  - {}번째 페이지를 검색중입니다'.format(p))\n",
    "        url_research = searching_blog(tag, p)\n",
    "        soup = get_search_result(url_research)   # 페이지 내 html ==> soup \n",
    "        if p==1: total = get_total_blog(soup)\n",
    "        check_urls = get_searched_blog_links(soup)\n",
    "\n",
    "        for check_url in check_urls:\n",
    "            rank +=1\n",
    "            if is_mine(check_url,naver_blog): return (rank, total)\n",
    "        \n",
    "        time.sleep(random.uniform(2.5,3.5))\n",
    "    rank = 9999    \n",
    "    return (rank, total)    \n",
    "    "
   ]
  },
  {
   "cell_type": "code",
   "execution_count": 17,
   "metadata": {},
   "outputs": [
    {
     "name": "stdout",
     "output_type": "stream",
     "text": [
      "<kiddwannabe.blog.me> 검색시 블로그 검색순위를 조회합니다\n",
      "--------------------------------------------------\n",
      "크롤링에 대해 검색중입니다.\n",
      "  - 1번째 페이지를 검색중입니다\n",
      "  > 크롤링에 대한 블로그 8984 개 중 4번째 검색됩니다.\n",
      "\n",
      "파이썬설치에 대해 검색중입니다.\n",
      "  - 1번째 페이지를 검색중입니다\n",
      "  > 파이썬설치에 대한 블로그 10139 개 중 3번째 검색됩니다.\n",
      "\n",
      "쥬피터노트북에 대해 검색중입니다.\n",
      "  - 1번째 페이지를 검색중입니다\n",
      "  - 2번째 페이지를 검색중입니다\n",
      "  > 쥬피터노트북에 대한 블로그 158 개 중 12번째 검색됩니다.\n",
      "\n",
      "SCM에 대해 검색중입니다.\n",
      "  - 1번째 페이지를 검색중입니다\n",
      "  - 2번째 페이지를 검색중입니다\n",
      "  - 3번째 페이지를 검색중입니다\n",
      "  - 4번째 페이지를 검색중입니다\n",
      "  - 5번째 페이지를 검색중입니다\n",
      "  - 6번째 페이지를 검색중입니다\n",
      "  - 7번째 페이지를 검색중입니다\n",
      "  - 8번째 페이지를 검색중입니다\n",
      "  - 9번째 페이지를 검색중입니다\n",
      "  - 10번째 페이지를 검색중입니다\n",
      "  > SCM에 대한 블로그 51073개 중 100순위내에 없습니다\n",
      "\n",
      "SCP에 대해 검색중입니다.\n",
      "  - 1번째 페이지를 검색중입니다\n",
      "  - 2번째 페이지를 검색중입니다\n",
      "  - 3번째 페이지를 검색중입니다\n",
      "  - 4번째 페이지를 검색중입니다\n",
      "  - 5번째 페이지를 검색중입니다\n",
      "  - 6번째 페이지를 검색중입니다\n",
      "  - 7번째 페이지를 검색중입니다\n",
      "  - 8번째 페이지를 검색중입니다\n",
      "  - 9번째 페이지를 검색중입니다\n",
      "  - 10번째 페이지를 검색중입니다\n",
      "  > SCP에 대한 블로그 20290개 중 100순위내에 없습니다\n",
      "\n",
      "판생회의에 대해 검색중입니다.\n",
      "  - 1번째 페이지를 검색중입니다\n",
      "  > 판생회의에 대한 블로그 11 개 중 1번째 검색됩니다.\n",
      "\n",
      "장씨세가에 대해 검색중입니다.\n",
      "  - 1번째 페이지를 검색중입니다\n",
      "  > 장씨세가에 대한 블로그 619 개 중 3번째 검색됩니다.\n",
      "\n",
      "수요예측에 대해 검색중입니다.\n",
      "  - 1번째 페이지를 검색중입니다\n",
      "  - 2번째 페이지를 검색중입니다\n",
      "  - 3번째 페이지를 검색중입니다\n",
      "  - 4번째 페이지를 검색중입니다\n",
      "  > 수요예측에 대한 블로그 255728 개 중 39번째 검색됩니다.\n",
      "\n"
     ]
    }
   ],
   "source": [
    "naver_blog = 'kiddwannabe.blog.me'\n",
    "tags = ['크롤링','파이썬설치', '쥬피터노트북','SCM','SCP','판생회의','장씨세가','수요예측']\n",
    "page = 10  # 몇 페이지 조회? 한 페이지당 10개 블로그 조회\n",
    "\n",
    "print('<{}> 검색시 블로그 검색순위를 조회합니다'.format(naver_blog))\n",
    "print('-'*50)\n",
    "for tag in tags:\n",
    "    rank, total = check_blog_rank(tag,naver_blog,page)\n",
    "    if rank == 9999: print('  > {}에 대한 블로그 {}개 중 {}순위내에 없습니다'.format(tag,total,page*10))\n",
    "    else: print('  > {}에 대한 블로그 {} 개 중 {}번째 검색됩니다.'.format(tag, total, rank))\n",
    "    print()"
   ]
  },
  {
   "cell_type": "code",
   "execution_count": null,
   "metadata": {
    "collapsed": true
   },
   "outputs": [],
   "source": []
  }
 ],
 "metadata": {
  "kernelspec": {
   "display_name": "Python 3",
   "language": "python",
   "name": "python3"
  },
  "language_info": {
   "codemirror_mode": {
    "name": "ipython",
    "version": 3
   },
   "file_extension": ".py",
   "mimetype": "text/x-python",
   "name": "python",
   "nbconvert_exporter": "python",
   "pygments_lexer": "ipython3",
   "version": "3.6.1"
  }
 },
 "nbformat": 4,
 "nbformat_minor": 2
}
